{
 "cells": [
  {
   "cell_type": "code",
   "execution_count": 19,
   "metadata": {},
   "outputs": [],
   "source": [
    "import pandas as pd\n",
    "\n",
    "data = pd.read_pickle('/home/p1dg/generation_bot/data/datasets/prepaired_data.df')\n",
    "data = data[~(data['companions'].apply(len) == 0)].reset_index(drop=True)"
   ]
  },
  {
   "cell_type": "code",
   "execution_count": 20,
   "metadata": {},
   "outputs": [],
   "source": [
    "import re\n",
    "#Removing the square brackets\n",
    "def remove_between_square_brackets(text):\n",
    "    return re.sub('', '', text)\n",
    "\n",
    "def convert2several_words(text):\n",
    "  new_text = ''\n",
    "  for word in text.split():\n",
    "    if not word.isupper():\n",
    "      word = \"\".join((\" \" + w if (w.isupper() and i) else w) for i, w in enumerate(word))\n",
    "      new_text+= \" \" + word\n",
    "    else:\n",
    "      new_text+=' '+word\n",
    "  return ' '.join(new_text.split())\n",
    "\n",
    "#Collect all functions\n",
    "def clean_text(text):\n",
    "    text = remove_between_square_brackets(text)\n",
    "    text = convert2several_words(text)\n",
    "    return ' '.join(text.split())"
   ]
  },
  {
   "cell_type": "code",
   "execution_count": 21,
   "metadata": {},
   "outputs": [
    {
     "name": "stdout",
     "output_type": "stream",
     "text": [
      "Of course I fear for the safety of my son!. And that is why we have to stop them.. The knights of the Vale will stay in the Vale where they belong, to protect their Lord.. Uncle. Father.. The rumors of your demise were unfounded.\n",
      "\n",
      "Of course I fear for the safety of my son!. And that is why we have to stop them.. The knights of the Vale will stay in the Vale where they belong, to protect their Lord.. Uncle. Father.. The rumors of your demise were unfounded.\n"
     ]
    }
   ],
   "source": [
    "sentence = data.sample()[\"context\"].values[0]\n",
    "print(sentence)\n",
    "print()\n",
    "print(clean_text(sentence))"
   ]
  },
  {
   "cell_type": "code",
   "execution_count": 22,
   "metadata": {},
   "outputs": [],
   "source": [
    "train_df = data[[\"speaker\"]].reset_index(drop=True)\n",
    "train_df[\"query\"] = data[\"query\"].apply(clean_text)"
   ]
  },
  {
   "cell_type": "code",
   "execution_count": 23,
   "metadata": {},
   "outputs": [],
   "source": [
    "import random\n",
    "use_col = ['speaker', 'query', 'context', \"companions\", \"close_reply\"]\n",
    "\n",
    "train_df = data.iloc[:-5][use_col]\n",
    "\n",
    "for index, row in data.iloc[:-5:,:].iterrows():\n",
    "    train_df.loc[index,\"query\"] = clean_text(row[\"query\"])\n",
    "    train_df.loc[index, \"context\"] = clean_text(row[\"context\"])\n",
    "    id = random.randint(0, len(row[\"companions\"]) - 1)\n",
    "    train_df.loc[index, \"companions\"] = row[\"companions\"][id]\n",
    "    train_df.loc[index, \"close_reply\"] = clean_text(row[\"close_reply\"][id])"
   ]
  },
  {
   "cell_type": "code",
   "execution_count": 24,
   "metadata": {},
   "outputs": [
    {
     "data": {
      "text/html": [
       "<div>\n",
       "<style scoped>\n",
       "    .dataframe tbody tr th:only-of-type {\n",
       "        vertical-align: middle;\n",
       "    }\n",
       "\n",
       "    .dataframe tbody tr th {\n",
       "        vertical-align: top;\n",
       "    }\n",
       "\n",
       "    .dataframe thead th {\n",
       "        text-align: right;\n",
       "    }\n",
       "</style>\n",
       "<table border=\"1\" class=\"dataframe\">\n",
       "  <thead>\n",
       "    <tr style=\"text-align: right;\">\n",
       "      <th></th>\n",
       "      <th>speaker</th>\n",
       "      <th>query</th>\n",
       "      <th>context</th>\n",
       "      <th>companions</th>\n",
       "      <th>close_reply</th>\n",
       "    </tr>\n",
       "  </thead>\n",
       "  <tbody>\n",
       "    <tr>\n",
       "      <th>0</th>\n",
       "      <td>royce</td>\n",
       "      <td>What is it?</td>\n",
       "      <td>Ned. Ten is too young to see such things.. He ...</td>\n",
       "      <td>jon snow</td>\n",
       "      <td>You did well.</td>\n",
       "    </tr>\n",
       "    <tr>\n",
       "      <th>1</th>\n",
       "      <td>jon snow</td>\n",
       "      <td>And your mother.</td>\n",
       "      <td>He won't be a boy forever. And winter is comin...</td>\n",
       "      <td>eddard stark</td>\n",
       "      <td>Lord of the Seven Kingdoms and protector of th...</td>\n",
       "    </tr>\n",
       "    <tr>\n",
       "      <th>2</th>\n",
       "      <td>septa mordane</td>\n",
       "      <td>Fine work, as always. Well done.</td>\n",
       "      <td>Lad, go run back and get the rest.. In the nam...</td>\n",
       "      <td>bran stark</td>\n",
       "      <td>Jon said he was a deserter.</td>\n",
       "    </tr>\n",
       "    <tr>\n",
       "      <th>3</th>\n",
       "      <td>sansa stark</td>\n",
       "      <td>Thank you.</td>\n",
       "      <td>In the name of Robert of the House Baratheon, ...</td>\n",
       "      <td>bran stark</td>\n",
       "      <td>Jon said he was a deserter.</td>\n",
       "    </tr>\n",
       "    <tr>\n",
       "      <th>4</th>\n",
       "      <td>septa mordane</td>\n",
       "      <td>I love the detail that you've managed to get i...</td>\n",
       "      <td>Don't look away.. King of the Andals and the F...</td>\n",
       "      <td>eddard stark</td>\n",
       "      <td>The man who passes the sentence should swing t...</td>\n",
       "    </tr>\n",
       "    <tr>\n",
       "      <th>...</th>\n",
       "      <td>...</td>\n",
       "      <td>...</td>\n",
       "      <td>...</td>\n",
       "      <td>...</td>\n",
       "      <td>...</td>\n",
       "    </tr>\n",
       "    <tr>\n",
       "      <th>16154</th>\n",
       "      <td>tyrion lannister</td>\n",
       "      <td>Perhaps we should take shelter.</td>\n",
       "      <td>Long may he reign.. Long may he reign.. Long m...</td>\n",
       "      <td>tyrion lannister</td>\n",
       "      <td>Ser Bronn of the Blackwater, Lord of Highgarde...</td>\n",
       "    </tr>\n",
       "    <tr>\n",
       "      <th>16155</th>\n",
       "      <td>daenerys targaryen</td>\n",
       "      <td>The city is on the rise?</td>\n",
       "      <td>Long may he reign.. That will improve.. I'm su...</td>\n",
       "      <td>davos</td>\n",
       "      <td>We have. These projects will begin as soon as ...</td>\n",
       "    </tr>\n",
       "    <tr>\n",
       "      <th>16156</th>\n",
       "      <td>tyrion lannister</td>\n",
       "      <td>it proves that no one needs a Master.</td>\n",
       "      <td>That will improve.. I'm sure it will.. Ser Bro...</td>\n",
       "      <td>davos</td>\n",
       "      <td>Any more.</td>\n",
       "    </tr>\n",
       "    <tr>\n",
       "      <th>16157</th>\n",
       "      <td>daenerys targaryen</td>\n",
       "      <td>Good. Shall we begin?</td>\n",
       "      <td>I'm sure it will.. Ser Bronn of the Blackwater...</td>\n",
       "      <td>tyrion lannister</td>\n",
       "      <td>Grandmaester, ahem, it is my theory, based on ...</td>\n",
       "    </tr>\n",
       "    <tr>\n",
       "      <th>16158</th>\n",
       "      <td>tyrion lannister</td>\n",
       "      <td>Do we have a plan?</td>\n",
       "      <td>In full, my lord Hand.. Good. Time to start in...</td>\n",
       "      <td>sam</td>\n",
       "      <td>The Archmaester has done some research on this...</td>\n",
       "    </tr>\n",
       "  </tbody>\n",
       "</table>\n",
       "<p>16159 rows × 5 columns</p>\n",
       "</div>"
      ],
      "text/plain": [
       "                  speaker                                              query  \\\n",
       "0                   royce                                        What is it?   \n",
       "1                jon snow                                   And your mother.   \n",
       "2           septa mordane                   Fine work, as always. Well done.   \n",
       "3             sansa stark                                         Thank you.   \n",
       "4           septa mordane  I love the detail that you've managed to get i...   \n",
       "...                   ...                                                ...   \n",
       "16154    tyrion lannister                    Perhaps we should take shelter.   \n",
       "16155  daenerys targaryen                           The city is on the rise?   \n",
       "16156    tyrion lannister              it proves that no one needs a Master.   \n",
       "16157  daenerys targaryen                              Good. Shall we begin?   \n",
       "16158    tyrion lannister                                 Do we have a plan?   \n",
       "\n",
       "                                                 context        companions  \\\n",
       "0      Ned. Ten is too young to see such things.. He ...          jon snow   \n",
       "1      He won't be a boy forever. And winter is comin...      eddard stark   \n",
       "2      Lad, go run back and get the rest.. In the nam...        bran stark   \n",
       "3      In the name of Robert of the House Baratheon, ...        bran stark   \n",
       "4      Don't look away.. King of the Andals and the F...      eddard stark   \n",
       "...                                                  ...               ...   \n",
       "16154  Long may he reign.. Long may he reign.. Long m...  tyrion lannister   \n",
       "16155  Long may he reign.. That will improve.. I'm su...             davos   \n",
       "16156  That will improve.. I'm sure it will.. Ser Bro...             davos   \n",
       "16157  I'm sure it will.. Ser Bronn of the Blackwater...  tyrion lannister   \n",
       "16158  In full, my lord Hand.. Good. Time to start in...               sam   \n",
       "\n",
       "                                             close_reply  \n",
       "0                                          You did well.  \n",
       "1      Lord of the Seven Kingdoms and protector of th...  \n",
       "2                            Jon said he was a deserter.  \n",
       "3                            Jon said he was a deserter.  \n",
       "4      The man who passes the sentence should swing t...  \n",
       "...                                                  ...  \n",
       "16154  Ser Bronn of the Blackwater, Lord of Highgarde...  \n",
       "16155  We have. These projects will begin as soon as ...  \n",
       "16156                                          Any more.  \n",
       "16157  Grandmaester, ahem, it is my theory, based on ...  \n",
       "16158  The Archmaester has done some research on this...  \n",
       "\n",
       "[16159 rows x 5 columns]"
      ]
     },
     "execution_count": 24,
     "metadata": {},
     "output_type": "execute_result"
    }
   ],
   "source": [
    "train_df"
   ]
  },
  {
   "cell_type": "code",
   "execution_count": 25,
   "metadata": {},
   "outputs": [],
   "source": [
    "def make_prompt(df):\n",
    "  id = random.randint(0, len(df[use_col][\"companions\"]))\n",
    "  query = df['query']\n",
    "  role = df['companions']\n",
    "  context = df['context']\n",
    "  reply = df[\"close_reply\"]\n",
    "  prompt = f\"[INST]\"\n",
    "  prompt += f'Use the given context to guide your an about the query like indicated in your role'\n",
    "  prompt += f\"query: {query}\\n\\n\"\n",
    "  prompt += f\"context: {context}\\n\\n\"\n",
    "  prompt += f\"your role: {role}\\n\\n\"\n",
    "  prompt += f'answer:{reply}[/INST]'\n",
    "  return prompt\n",
    "\n",
    "for index, row in train_df.iterrows():\n",
    "   train_df.loc[index, \"prompt\"] = make_prompt(row)"
   ]
  },
  {
   "cell_type": "code",
   "execution_count": 26,
   "metadata": {},
   "outputs": [
    {
     "data": {
      "text/plain": [
       "\"[INST]Use the given context to guide your an about the query like indicated in your rolequery: Tell Bran he's coming, too.\\n\\ncontext: Is it true he saw the White Walkers?. The White Walkers have been gone for thousands of years.. So he was lying?. A madman sees what he sees.. What is it?\\n\\nyour role: eddard stark\\n\\nanswer:Tough old beast.[/INST]\""
      ]
     },
     "execution_count": 26,
     "metadata": {},
     "output_type": "execute_result"
    }
   ],
   "source": [
    "\n",
    "train_df.loc[10][\"prompt\"]\n",
    "     "
   ]
  },
  {
   "cell_type": "code",
   "execution_count": 30,
   "metadata": {},
   "outputs": [],
   "source": [
    "import datasets\n",
    "\n",
    "\n",
    "dataset =  datasets.Dataset.from_pandas(train_df[[\"prompt\"]] )"
   ]
  },
  {
   "cell_type": "code",
   "execution_count": 31,
   "metadata": {},
   "outputs": [
    {
     "data": {
      "text/plain": [
       "{'prompt': [\"[INST]Use the given context to guide your an about the query like indicated in your rolequery: What is it?\\n\\ncontext: Ned. Ten is too young to see such things.. He won't be a boy forever. And winter is coming.. Lad, go run back and get the rest.. In the name of Robert of the House Baratheon, first of his name …. Don't look away.\\n\\nyour role: jon snow\\n\\nanswer:You did well.[/INST]\",\n",
       "  \"[INST]Use the given context to guide your an about the query like indicated in your rolequery: And your mother.\\n\\ncontext: He won't be a boy forever. And winter is coming.. Lad, go run back and get the rest.. In the name of Robert of the House Baratheon, first of his name …. Don't look away.. King of the Andals and the First Men …\\n\\nyour role: eddard stark\\n\\nanswer:Lord of the Seven Kingdoms and protector of the realm, I, Eddard of the House Stark, Lord of Winterfell and Warden of the North, sentence you to die.[/INST]\",\n",
       "  \"[INST]Use the given context to guide your an about the query like indicated in your rolequery: Fine work, as always. Well done.\\n\\ncontext: Lad, go run back and get the rest.. In the name of Robert of the House Baratheon, first of his name …. Don't look away.. King of the Andals and the First Men …. Father will know if you do.\\n\\nyour role: bran stark\\n\\nanswer:Jon said he was a deserter.[/INST]\"]}"
      ]
     },
     "execution_count": 31,
     "metadata": {},
     "output_type": "execute_result"
    }
   ],
   "source": [
    "\n",
    "dataset[:3]"
   ]
  },
  {
   "cell_type": "code",
   "execution_count": 32,
   "metadata": {},
   "outputs": [
    {
     "name": "stderr",
     "output_type": "stream",
     "text": [
      "Saving the dataset (1/1 shards): 100%|██████████| 16159/16159 [00:00<00:00, 1234508.63 examples/s]\n"
     ]
    }
   ],
   "source": [
    "dataset.save_to_disk('/home/p1dg/generation_bot/data/datasets/prepaire_dataset')"
   ]
  },
  {
   "cell_type": "code",
   "execution_count": 33,
   "metadata": {},
   "outputs": [
    {
     "data": {
      "text/plain": [
       "{'prompt': [\"[INST]Use the given context to guide your an about the query like indicated in your rolequery: What is it?\\n\\ncontext: Ned. Ten is too young to see such things.. He won't be a boy forever. And winter is coming.. Lad, go run back and get the rest.. In the name of Robert of the House Baratheon, first of his name …. Don't look away.\\n\\nyour role: jon snow\\n\\nanswer:You did well.[/INST]\",\n",
       "  \"[INST]Use the given context to guide your an about the query like indicated in your rolequery: And your mother.\\n\\ncontext: He won't be a boy forever. And winter is coming.. Lad, go run back and get the rest.. In the name of Robert of the House Baratheon, first of his name …. Don't look away.. King of the Andals and the First Men …\\n\\nyour role: eddard stark\\n\\nanswer:Lord of the Seven Kingdoms and protector of the realm, I, Eddard of the House Stark, Lord of Winterfell and Warden of the North, sentence you to die.[/INST]\",\n",
       "  \"[INST]Use the given context to guide your an about the query like indicated in your rolequery: Fine work, as always. Well done.\\n\\ncontext: Lad, go run back and get the rest.. In the name of Robert of the House Baratheon, first of his name …. Don't look away.. King of the Andals and the First Men …. Father will know if you do.\\n\\nyour role: bran stark\\n\\nanswer:Jon said he was a deserter.[/INST]\",\n",
       "  \"[INST]Use the given context to guide your an about the query like indicated in your rolequery: Thank you.\\n\\ncontext: In the name of Robert of the House Baratheon, first of his name …. Don't look away.. King of the Andals and the First Men …. Father will know if you do.. Lord of the Seven Kingdoms and protector of the realm, I, Eddard of the House Stark, Lord of Winterfell and Warden of the North, sentence you to die.\\n\\nyour role: bran stark\\n\\nanswer:Jon said he was a deserter.[/INST]\",\n",
       "  \"[INST]Use the given context to guide your an about the query like indicated in your rolequery: I love the detail that you've managed to get in this corners. … Quite beautiful … the stitching …\\n\\ncontext: Don't look away.. King of the Andals and the First Men …. Father will know if you do.. Lord of the Seven Kingdoms and protector of the realm, I, Eddard of the House Stark, Lord of Winterfell and Warden of the North, sentence you to die.. You did well.\\n\\nyour role: eddard stark\\n\\nanswer:The man who passes the sentence should swing the sword.[/INST]\"]}"
      ]
     },
     "execution_count": 33,
     "metadata": {},
     "output_type": "execute_result"
    }
   ],
   "source": [
    "loaded = datasets.load_from_disk('/home/p1dg/generation_bot/data/datasets/prepaire_dataset')\n",
    "loaded[:5]"
   ]
  },
  {
   "cell_type": "code",
   "execution_count": null,
   "metadata": {},
   "outputs": [],
   "source": []
  }
 ],
 "metadata": {
  "kernelspec": {
   "display_name": "Python 3",
   "language": "python",
   "name": "python3"
  },
  "language_info": {
   "codemirror_mode": {
    "name": "ipython",
    "version": 3
   },
   "file_extension": ".py",
   "mimetype": "text/x-python",
   "name": "python",
   "nbconvert_exporter": "python",
   "pygments_lexer": "ipython3",
   "version": "3.10.12"
  }
 },
 "nbformat": 4,
 "nbformat_minor": 2
}

{
 "cells": [
  {
   "cell_type": "code",
   "execution_count": 31,
   "metadata": {},
   "outputs": [],
   "source": [
    "import pandas as pd\n",
    "import numpy as np\n",
    "import random\n",
    "from tqdm import tqdm\n",
    "import datasets\n",
    "import matplotlib\n",
    "import matplotlib.pyplot as plt\n",
    "\n",
    "import warnings\n",
    "\n",
    "warnings.filterwarnings(\"ignore\")"
   ]
  },
  {
   "cell_type": "code",
   "execution_count": 32,
   "metadata": {},
   "outputs": [
    {
     "data": {
      "text/html": [
       "<div>\n",
       "<style scoped>\n",
       "    .dataframe tbody tr th:only-of-type {\n",
       "        vertical-align: middle;\n",
       "    }\n",
       "\n",
       "    .dataframe tbody tr th {\n",
       "        vertical-align: top;\n",
       "    }\n",
       "\n",
       "    .dataframe thead th {\n",
       "        text-align: right;\n",
       "    }\n",
       "</style>\n",
       "<table border=\"1\" class=\"dataframe\">\n",
       "  <thead>\n",
       "    <tr style=\"text-align: right;\">\n",
       "      <th></th>\n",
       "      <th>Season</th>\n",
       "      <th>Episode</th>\n",
       "      <th>speaker</th>\n",
       "      <th>query</th>\n",
       "      <th>companions</th>\n",
       "      <th>close_reply</th>\n",
       "      <th>neutral_reply</th>\n",
       "      <th>bad_reply</th>\n",
       "      <th>context</th>\n",
       "    </tr>\n",
       "  </thead>\n",
       "  <tbody>\n",
       "    <tr>\n",
       "      <th>9897</th>\n",
       "      <td>Season 3</td>\n",
       "      <td>Episode 8</td>\n",
       "      <td>daenerys targaryen</td>\n",
       "      <td>Athjahaka.</td>\n",
       "      <td>[yara greyjoy, theon greyjoy, yara greyjoy, th...</td>\n",
       "      <td>[I know., You don't know., Why did you come he...</td>\n",
       "      <td>[The Queen in the North!, After a long consult...</td>\n",
       "      <td>[Don't call them that., A letter for you, Lord...</td>\n",
       "      <td>Look at me. Look at me! Men died trying to res...</td>\n",
       "    </tr>\n",
       "    <tr>\n",
       "      <th>21765</th>\n",
       "      <td>Season 7</td>\n",
       "      <td>Episode 5</td>\n",
       "      <td>jon snow</td>\n",
       "      <td>You're a lot leaner.</td>\n",
       "      <td>[]</td>\n",
       "      <td>[]</td>\n",
       "      <td>[You're a lot shorter., You're a lot leaner., ...</td>\n",
       "      <td>[Can you leave the war for one night?, You are...</td>\n",
       "      <td></td>\n",
       "    </tr>\n",
       "    <tr>\n",
       "      <th>10229</th>\n",
       "      <td>Season 3</td>\n",
       "      <td>Episode 9</td>\n",
       "      <td>robb stark</td>\n",
       "      <td>I suppose it does seem strange from a foreigne...</td>\n",
       "      <td>[jon snow, tormund, jon snow, tormund]</td>\n",
       "      <td>[That's what'll happen to you if we lose. The ...</td>\n",
       "      <td>[The Queen in the North!, After a long consult...</td>\n",
       "      <td>[I am not your enemy. The dead are the enemy.,...</td>\n",
       "      <td>But you should leave, Grandmother. Your place ...</td>\n",
       "    </tr>\n",
       "    <tr>\n",
       "      <th>3568</th>\n",
       "      <td>Season 2</td>\n",
       "      <td>Episode 2</td>\n",
       "      <td>theon greyjoy</td>\n",
       "      <td>I'm his only living son. He'll listen to me.</td>\n",
       "      <td>[tyrion lannister, man, tyrion lannister, cers...</td>\n",
       "      <td>[Pod, my helmet. Ser Mandon, you will bear the...</td>\n",
       "      <td>[You don't want Balon Greyjoy for an ally., Yo...</td>\n",
       "      <td>[And yet you really want to say. You want to s...</td>\n",
       "      <td>What did my mother say exactly? Did she have u...</td>\n",
       "    </tr>\n",
       "    <tr>\n",
       "      <th>8912</th>\n",
       "      <td>Season 3</td>\n",
       "      <td>Episode 6</td>\n",
       "      <td>sam</td>\n",
       "      <td>Not so far. A few more days.</td>\n",
       "      <td>[gilly, sam, gilly, sam]</td>\n",
       "      <td>[Just promise me that whatever happens you'll ...</td>\n",
       "      <td>[What did you say to him?, What do your captai...</td>\n",
       "      <td>[True. But I'm not a Stark., And he's headed t...</td>\n",
       "      <td>The next time you see something like that you ...</td>\n",
       "    </tr>\n",
       "    <tr>\n",
       "      <th>17087</th>\n",
       "      <td>Season 5</td>\n",
       "      <td>Episode 10</td>\n",
       "      <td>sparrow</td>\n",
       "      <td>You wish to make a confession?</td>\n",
       "      <td>[]</td>\n",
       "      <td>[]</td>\n",
       "      <td>[Once I've confessed, will I be free?, And you...</td>\n",
       "      <td>[What is there to tell?, You must be weary aft...</td>\n",
       "      <td></td>\n",
       "    </tr>\n",
       "    <tr>\n",
       "      <th>4488</th>\n",
       "      <td>Season 2</td>\n",
       "      <td>Episode 4</td>\n",
       "      <td>petyr baelish</td>\n",
       "      <td>Both girls are healthy and safe. For now. But ...</td>\n",
       "      <td>[tyrion lannister, varys, tyrion lannister, va...</td>\n",
       "      <td>[I hope we might speak. In confidence., Oh, al...</td>\n",
       "      <td>[What kind do you want to be?, What do you wan...</td>\n",
       "      <td>[We'll be together again soon and everything w...</td>\n",
       "      <td>How many of those fingers do you think we coul...</td>\n",
       "    </tr>\n",
       "    <tr>\n",
       "      <th>967</th>\n",
       "      <td>Season 1</td>\n",
       "      <td>Episode 4</td>\n",
       "      <td>theon greyjoy</td>\n",
       "      <td>Really? If I was cooped up all day with no one...</td>\n",
       "      <td>[eddard stark, petyr baelish, eddard stark, ca...</td>\n",
       "      <td>[I don't have the time., It won't take more th...</td>\n",
       "      <td>[I don't want to go., I want to go with you., ...</td>\n",
       "      <td>[This is Daenerys Targaryen, the Stormborn, th...</td>\n",
       "      <td>I'll go ahead with my daughters. Get them read...</td>\n",
       "    </tr>\n",
       "    <tr>\n",
       "      <th>6237</th>\n",
       "      <td>Season 2</td>\n",
       "      <td>Episode 8</td>\n",
       "      <td>tyrion lannister</td>\n",
       "      <td>You've forgotten the most important thing abou...</td>\n",
       "      <td>[shae, tyrion lannister, shae, tyrion lannister]</td>\n",
       "      <td>[I'm not afraid of them. I'm not going to run....</td>\n",
       "      <td>[Oh? Well, you're the expert. Tell me., Your q...</td>\n",
       "      <td>[Did I seem scared the other day?, Where are y...</td>\n",
       "      <td>You don't want her.. By our children.. What ar...</td>\n",
       "    </tr>\n",
       "    <tr>\n",
       "      <th>465</th>\n",
       "      <td>Season 1</td>\n",
       "      <td>Episode 2</td>\n",
       "      <td>catelyn stark</td>\n",
       "      <td>I don't care about appointments!</td>\n",
       "      <td>[cersei lannister, joffrey lannister, cersei l...</td>\n",
       "      <td>[A royal army?, Why should every lord command ...</td>\n",
       "      <td>[When was the last time you left this room?, M...</td>\n",
       "      <td>[Meynard says here that he issued an anullment...</td>\n",
       "      <td>Yes. She's very beautiful and young. If you do...</td>\n",
       "    </tr>\n",
       "  </tbody>\n",
       "</table>\n",
       "</div>"
      ],
      "text/plain": [
       "         Season     Episode             speaker  \\\n",
       "9897   Season 3   Episode 8  daenerys targaryen   \n",
       "21765  Season 7   Episode 5            jon snow   \n",
       "10229  Season 3   Episode 9          robb stark   \n",
       "3568   Season 2   Episode 2       theon greyjoy   \n",
       "8912   Season 3   Episode 6                 sam   \n",
       "17087  Season 5  Episode 10             sparrow   \n",
       "4488   Season 2   Episode 4       petyr baelish   \n",
       "967    Season 1   Episode 4       theon greyjoy   \n",
       "6237   Season 2   Episode 8    tyrion lannister   \n",
       "465    Season 1   Episode 2       catelyn stark   \n",
       "\n",
       "                                                   query  \\\n",
       "9897                                          Athjahaka.   \n",
       "21765                               You're a lot leaner.   \n",
       "10229  I suppose it does seem strange from a foreigne...   \n",
       "3568        I'm his only living son. He'll listen to me.   \n",
       "8912                        Not so far. A few more days.   \n",
       "17087                     You wish to make a confession?   \n",
       "4488   Both girls are healthy and safe. For now. But ...   \n",
       "967    Really? If I was cooped up all day with no one...   \n",
       "6237   You've forgotten the most important thing abou...   \n",
       "465                     I don't care about appointments!   \n",
       "\n",
       "                                              companions  \\\n",
       "9897   [yara greyjoy, theon greyjoy, yara greyjoy, th...   \n",
       "21765                                                 []   \n",
       "10229             [jon snow, tormund, jon snow, tormund]   \n",
       "3568   [tyrion lannister, man, tyrion lannister, cers...   \n",
       "8912                            [gilly, sam, gilly, sam]   \n",
       "17087                                                 []   \n",
       "4488   [tyrion lannister, varys, tyrion lannister, va...   \n",
       "967    [eddard stark, petyr baelish, eddard stark, ca...   \n",
       "6237    [shae, tyrion lannister, shae, tyrion lannister]   \n",
       "465    [cersei lannister, joffrey lannister, cersei l...   \n",
       "\n",
       "                                             close_reply  \\\n",
       "9897   [I know., You don't know., Why did you come he...   \n",
       "21765                                                 []   \n",
       "10229  [That's what'll happen to you if we lose. The ...   \n",
       "3568   [Pod, my helmet. Ser Mandon, you will bear the...   \n",
       "8912   [Just promise me that whatever happens you'll ...   \n",
       "17087                                                 []   \n",
       "4488   [I hope we might speak. In confidence., Oh, al...   \n",
       "967    [I don't have the time., It won't take more th...   \n",
       "6237   [I'm not afraid of them. I'm not going to run....   \n",
       "465    [A royal army?, Why should every lord command ...   \n",
       "\n",
       "                                           neutral_reply  \\\n",
       "9897   [The Queen in the North!, After a long consult...   \n",
       "21765  [You're a lot shorter., You're a lot leaner., ...   \n",
       "10229  [The Queen in the North!, After a long consult...   \n",
       "3568   [You don't want Balon Greyjoy for an ally., Yo...   \n",
       "8912   [What did you say to him?, What do your captai...   \n",
       "17087  [Once I've confessed, will I be free?, And you...   \n",
       "4488   [What kind do you want to be?, What do you wan...   \n",
       "967    [I don't want to go., I want to go with you., ...   \n",
       "6237   [Oh? Well, you're the expert. Tell me., Your q...   \n",
       "465    [When was the last time you left this room?, M...   \n",
       "\n",
       "                                               bad_reply  \\\n",
       "9897   [Don't call them that., A letter for you, Lord...   \n",
       "21765  [Can you leave the war for one night?, You are...   \n",
       "10229  [I am not your enemy. The dead are the enemy.,...   \n",
       "3568   [And yet you really want to say. You want to s...   \n",
       "8912   [True. But I'm not a Stark., And he's headed t...   \n",
       "17087  [What is there to tell?, You must be weary aft...   \n",
       "4488   [We'll be together again soon and everything w...   \n",
       "967    [This is Daenerys Targaryen, the Stormborn, th...   \n",
       "6237   [Did I seem scared the other day?, Where are y...   \n",
       "465    [Meynard says here that he issued an anullment...   \n",
       "\n",
       "                                                 context  \n",
       "9897   Look at me. Look at me! Men died trying to res...  \n",
       "21765                                                     \n",
       "10229  But you should leave, Grandmother. Your place ...  \n",
       "3568   What did my mother say exactly? Did she have u...  \n",
       "8912   The next time you see something like that you ...  \n",
       "17087                                                     \n",
       "4488   How many of those fingers do you think we coul...  \n",
       "967    I'll go ahead with my daughters. Get them read...  \n",
       "6237   You don't want her.. By our children.. What ar...  \n",
       "465    Yes. She's very beautiful and young. If you do...  "
      ]
     },
     "execution_count": 32,
     "metadata": {},
     "output_type": "execute_result"
    }
   ],
   "source": [
    "talks_df = pd.read_pickle('/home/p1dg/retrival_bot/data/datasets/prepaired_data.df\")\n",
    "talks_df.sample(10)"
   ]
  },
  {
   "cell_type": "code",
   "execution_count": 33,
   "metadata": {},
   "outputs": [],
   "source": [
    "# Соберем все ответы из базы\n",
    "base_answers = talks_df[\"close_reply\"].values\n",
    "all_replies = []\n",
    "for rep in base_answers.tolist():\n",
    "    all_replies.extend(rep)\n",
    "all_replies = list(set(all_replies))  # Список всех ответов из базы"
   ]
  },
  {
   "cell_type": "code",
   "execution_count": 34,
   "metadata": {},
   "outputs": [],
   "source": [
    "from typing import Callable, Iterable\n",
    "\n",
    "import torch\n",
    "from torch.utils.data import Dataset, DataLoader, random_split\n",
    "from transformers import AutoTokenizer, AutoModel\n",
    "from transformers.optimization import get_linear_schedule_with_warmup\n",
    "from scipy import stats\n",
    "from sklearn.metrics.pairwise import cosine_similarity"
   ]
  },
  {
   "cell_type": "code",
   "execution_count": 35,
   "metadata": {},
   "outputs": [
    {
     "data": {
      "text/plain": [
       "'cuda'"
      ]
     },
     "execution_count": 35,
     "metadata": {},
     "output_type": "execute_result"
    }
   ],
   "source": [
    "SEED = 10\n",
    "\n",
    "random.seed(SEED)\n",
    "np.random.seed(SEED)\n",
    "torch.manual_seed(SEED)\n",
    "torch.cuda.manual_seed_all(SEED)\n",
    "\n",
    "torch.backends.cudnn.deterministic = True\n",
    "torch.backends.cudnn.benchmark = False\n",
    "\n",
    "DEVICE = \"cuda\" if torch.cuda.is_available() else \"cpu\"\n",
    "DEVICE"
   ]
  },
  {
   "cell_type": "code",
   "execution_count": 36,
   "metadata": {},
   "outputs": [
    {
     "data": {
      "text/plain": [
       "DistilBertModel(\n",
       "  (embeddings): Embeddings(\n",
       "    (word_embeddings): Embedding(30522, 768, padding_idx=0)\n",
       "    (position_embeddings): Embedding(512, 768)\n",
       "    (LayerNorm): LayerNorm((768,), eps=1e-12, elementwise_affine=True)\n",
       "    (dropout): Dropout(p=0.1, inplace=False)\n",
       "  )\n",
       "  (transformer): Transformer(\n",
       "    (layer): ModuleList(\n",
       "      (0-5): 6 x TransformerBlock(\n",
       "        (attention): MultiHeadSelfAttention(\n",
       "          (dropout): Dropout(p=0.1, inplace=False)\n",
       "          (q_lin): Linear(in_features=768, out_features=768, bias=True)\n",
       "          (k_lin): Linear(in_features=768, out_features=768, bias=True)\n",
       "          (v_lin): Linear(in_features=768, out_features=768, bias=True)\n",
       "          (out_lin): Linear(in_features=768, out_features=768, bias=True)\n",
       "        )\n",
       "        (sa_layer_norm): LayerNorm((768,), eps=1e-12, elementwise_affine=True)\n",
       "        (ffn): FFN(\n",
       "          (dropout): Dropout(p=0.1, inplace=False)\n",
       "          (lin1): Linear(in_features=768, out_features=3072, bias=True)\n",
       "          (lin2): Linear(in_features=3072, out_features=768, bias=True)\n",
       "          (activation): GELUActivation()\n",
       "        )\n",
       "        (output_layer_norm): LayerNorm((768,), eps=1e-12, elementwise_affine=True)\n",
       "      )\n",
       "    )\n",
       "  )\n",
       ")"
      ]
     },
     "execution_count": 36,
     "metadata": {},
     "output_type": "execute_result"
    }
   ],
   "source": [
    "tokenizer = AutoTokenizer.from_pretrained(\"distilbert-base-uncased\")\n",
    "bert_model = AutoModel.from_pretrained(\"distilbert-base-uncased\")\n",
    "bert_model.from_pretrained(\"sbert_softmax_lr_0.0\")"
   ]
  },
  {
   "cell_type": "code",
   "execution_count": 37,
   "metadata": {},
   "outputs": [
    {
     "data": {
      "text/plain": [
       "'[CLS] i am hungry. [SEP] order some food for me [SEP]'"
      ]
     },
     "execution_count": 37,
     "metadata": {},
     "output_type": "execute_result"
    }
   ],
   "source": [
    "tokenized_texts = tokenizer(\n",
    "    [\"I am hungry.\"], [\"Order some food for me\"], padding=True, truncation=True\n",
    ")\n",
    "tokenizer.decode(tokenized_texts[\"input_ids\"][0])"
   ]
  },
  {
   "cell_type": "code",
   "execution_count": 38,
   "metadata": {},
   "outputs": [
    {
     "data": {
      "text/plain": [
       "(5749,\n",
       " {'sentence1': 'A plane is taking off.',\n",
       "  'sentence2': 'An air plane is taking off.',\n",
       "  'label': 5.0,\n",
       "  'idx': 0})"
      ]
     },
     "execution_count": 38,
     "metadata": {},
     "output_type": "execute_result"
    }
   ],
   "source": [
    "dataset = datasets.load_dataset(\"glue\", \"stsb\", split=\"train\")\n",
    "len(dataset), dataset[0]"
   ]
  },
  {
   "cell_type": "code",
   "execution_count": 39,
   "metadata": {},
   "outputs": [
    {
     "name": "stderr",
     "output_type": "stream",
     "text": [
      "100%|██████████| 5749/5749 [00:00<00:00, 45066.83it/s]\n"
     ]
    }
   ],
   "source": [
    "text_lengths1, text_lengths2 = [], []\n",
    "for data in tqdm(dataset):\n",
    "    if random.random() > 0.5:\n",
    "        text_lengths1.append(len(data[\"sentence1\"]))\n",
    "        text_lengths2.append(len(data[\"sentence2\"]))"
   ]
  },
  {
   "cell_type": "code",
   "execution_count": 40,
   "metadata": {},
   "outputs": [
    {
     "data": {
      "image/png": "[encoded data removed]",
      "text/plain": [
       "<Figure size 1400x600 with 2 Axes>"
      ]
     },
     "metadata": {},
     "output_type": "display_data"
    }
   ],
   "source": [
    "fig, ax = plt.subplots(1, 2, figsize=(14, 6))\n",
    "ax[0].hist(text_lengths1)\n",
    "ax[1].hist(text_lengths2);"
   ]
  },
  {
   "cell_type": "code",
   "execution_count": 41,
   "metadata": {},
   "outputs": [
    {
     "name": "stdout",
     "output_type": "stream",
     "text": [
      "CPU times: user 721 ms, sys: 368 ms, total: 1.09 s\n",
      "Wall time: 498 ms\n"
     ]
    }
   ],
   "source": [
    "%%time\n",
    "\n",
    "MAX_LENGTH = 128\n",
    "\n",
    "tokenized_texts = tokenizer(\n",
    "    [data[\"sentence1\"] for data in dataset],\n",
    "    [data[\"sentence2\"] for data in dataset],\n",
    "    max_length=MAX_LENGTH,\n",
    "    padding=\"max_length\",\n",
    "    truncation=True,\n",
    "    verbose=True,\n",
    ")"
   ]
  },
  {
   "cell_type": "code",
   "execution_count": 42,
   "metadata": {},
   "outputs": [],
   "source": [
    "class StsDataset(Dataset):\n",
    "    def __init__(self, tokens: dict, labels: list[float]):\n",
    "        self.tokens = tokens\n",
    "        self.labels = labels\n",
    "\n",
    "    def __getitem__(self, ix: int) -> dict[str, torch.tensor]:\n",
    "        return {\n",
    "            \"input_ids\": torch.tensor(self.tokens[\"input_ids\"][ix], dtype=torch.long),\n",
    "            \"attention_mask\": torch.tensor(\n",
    "                self.tokens[\"attention_mask\"][ix], dtype=torch.long\n",
    "            ),\n",
    "            \"labels\": torch.tensor(\n",
    "                self.labels[ix], dtype=torch.float\n",
    "            ),  # Use float for regression\n",
    "        }\n",
    "\n",
    "    def __len__(self) -> int:\n",
    "        return len(self.tokens[\"input_ids\"])"
   ]
  },
  {
   "cell_type": "code",
   "execution_count": 43,
   "metadata": {},
   "outputs": [
    {
     "name": "stdout",
     "output_type": "stream",
     "text": [
      "CPU times: user 129 ms, sys: 62 µs, total: 129 ms\n",
      "Wall time: 129 ms\n"
     ]
    }
   ],
   "source": [
    "%%time\n",
    "\n",
    "sts_dataset = StsDataset(tokenized_texts, [data[\"label\"] for data in dataset])"
   ]
  },
  {
   "cell_type": "code",
   "execution_count": 44,
   "metadata": {},
   "outputs": [],
   "source": [
    "train_ratio = 0.8\n",
    "n_total = len(sts_dataset)\n",
    "n_train = int(n_total * train_ratio)\n",
    "n_val = n_total - n_train\n",
    "\n",
    "train_dataset, val_dataset = random_split(sts_dataset, [n_train, n_val])\n",
    "\n",
    "batch_size = 16  # mentioned in the paper\n",
    "train_dataloader = DataLoader(train_dataset, batch_size=batch_size, shuffle=True)\n",
    "val_dataloader = DataLoader(val_dataset, batch_size=batch_size, shuffle=False)"
   ]
  },
  {
   "cell_type": "code",
   "execution_count": 45,
   "metadata": {},
   "outputs": [
    {
     "data": {
      "text/plain": [
       "(288, 72)"
      ]
     },
     "execution_count": 45,
     "metadata": {},
     "output_type": "execute_result"
    }
   ],
   "source": [
    "len(train_dataloader), len(val_dataloader)"
   ]
  },
  {
   "cell_type": "code",
   "execution_count": 46,
   "metadata": {},
   "outputs": [],
   "source": [
    "class CrossEncoderBert(torch.nn.Module):\n",
    "    def __init__(self, max_length: int = MAX_LENGTH):\n",
    "        super().__init__()\n",
    "        self.max_length = max_length\n",
    "        self.bert_model = AutoModel.from_pretrained(\"distilbert-base-uncased\")\n",
    "        self.bert_tokenizer = AutoTokenizer.from_pretrained(\"distilbert-base-uncased\")\n",
    "        self.linear = torch.nn.Linear(self.bert_model.config.hidden_size, 1)\n",
    "\n",
    "    def forward(self, input_ids, attention_mask):\n",
    "        outputs = self.bert_model(input_ids=input_ids, attention_mask=attention_mask)\n",
    "        pooled_output = outputs.last_hidden_state[:, 0]  # Use the CLS token's output\n",
    "        return self.linear(pooled_output)"
   ]
  },
  {
   "cell_type": "code",
   "execution_count": 47,
   "metadata": {},
   "outputs": [],
   "source": [
    "model = CrossEncoderBert().to(DEVICE)"
   ]
  },
  {
   "cell_type": "code",
   "execution_count": 48,
   "metadata": {},
   "outputs": [],
   "source": [
    "#  optimizer, lr, num_warmup steps have been picked from the paper\n",
    "optimizer = torch.optim.AdamW(model.parameters(), lr=3e-5)\n",
    "total_steps = len(train_dataset) // batch_size\n",
    "warmup_steps = int(0.1 * total_steps)\n",
    "scheduler = get_linear_schedule_with_warmup(\n",
    "    optimizer,\n",
    "    num_warmup_steps=warmup_steps,\n",
    "    num_training_steps=total_steps - warmup_steps,\n",
    ")\n",
    "\n",
    "loss_fn = torch.nn.MSELoss()"
   ]
  },
  {
   "cell_type": "code",
   "execution_count": 49,
   "metadata": {},
   "outputs": [],
   "source": [
    "def train_step_fn(model, optimizer, scheduler, loss_fn, batch):\n",
    "    model.train()\n",
    "    input_ids = batch[\"input_ids\"].to(DEVICE)\n",
    "    attention_mask = batch[\"attention_mask\"].to(DEVICE)\n",
    "    labels = batch[\"labels\"].to(DEVICE)\n",
    "    optimizer.zero_grad()\n",
    "    logits = model(input_ids, attention_mask)\n",
    "    loss = loss_fn(logits.squeeze(-1), labels)\n",
    "    loss.backward()\n",
    "    optimizer.step()\n",
    "    scheduler.step()\n",
    "    return loss.item()\n",
    "\n",
    "\n",
    "def val_step_fn(model, loss_fn, batch):\n",
    "    model.eval()\n",
    "    input_ids = batch[\"input_ids\"].to(DEVICE)\n",
    "    attention_mask = batch[\"attention_mask\"].to(DEVICE)\n",
    "    labels = batch[\"labels\"].to(DEVICE)\n",
    "    with torch.no_grad():\n",
    "        logits = model(input_ids, attention_mask)\n",
    "    loss = loss_fn(logits.squeeze(-1), labels)\n",
    "    return loss.item()\n",
    "\n",
    "\n",
    "def mini_batch(dataloader, step_fn, is_training=True):\n",
    "    mini_batch_losses = []\n",
    "    for i, batch in tqdm(enumerate(dataloader), total=len(dataloader)):\n",
    "        if is_training:\n",
    "            loss = step_fn(model, optimizer, scheduler, loss_fn, batch)\n",
    "        else:\n",
    "            loss = step_fn(model, loss_fn, batch)\n",
    "        mini_batch_losses.append(loss)\n",
    "        if i % (batch_size * 4) == 0:\n",
    "            print(f\"Step {i:>5}/{len(dataloader)}, Loss = {loss:.3f}\")\n",
    "    return np.mean(mini_batch_losses), mini_batch_losses"
   ]
  },
  {
   "cell_type": "code",
   "execution_count": 50,
   "metadata": {},
   "outputs": [
    {
     "name": "stdout",
     "output_type": "stream",
     "text": [
      "\n",
      "Epoch 1\n"
     ]
    },
    {
     "name": "stderr",
     "output_type": "stream",
     "text": [
      "  0%|          | 0/288 [00:00<?, ?it/s]"
     ]
    },
    {
     "name": "stderr",
     "output_type": "stream",
     "text": [
      "  0%|          | 1/288 [00:00<00:37,  7.71it/s]"
     ]
    },
    {
     "name": "stdout",
     "output_type": "stream",
     "text": [
      "Step     0/288, Loss = 11.450\n"
     ]
    },
    {
     "name": "stderr",
     "output_type": "stream",
     "text": [
      " 23%|██▎       | 67/288 [00:04<00:13, 16.27it/s]"
     ]
    },
    {
     "name": "stdout",
     "output_type": "stream",
     "text": [
      "Step    64/288, Loss = 1.509\n"
     ]
    },
    {
     "name": "stderr",
     "output_type": "stream",
     "text": [
      " 45%|████▌     | 131/288 [00:08<00:10, 14.81it/s]"
     ]
    },
    {
     "name": "stdout",
     "output_type": "stream",
     "text": [
      "Step   128/288, Loss = 0.777\n"
     ]
    },
    {
     "name": "stderr",
     "output_type": "stream",
     "text": [
      " 68%|██████▊   | 195/288 [00:12<00:05, 17.80it/s]"
     ]
    },
    {
     "name": "stdout",
     "output_type": "stream",
     "text": [
      "Step   192/288, Loss = 0.482\n"
     ]
    },
    {
     "name": "stderr",
     "output_type": "stream",
     "text": [
      " 90%|████████▉ | 259/288 [00:16<00:01, 16.99it/s]"
     ]
    },
    {
     "name": "stdout",
     "output_type": "stream",
     "text": [
      "Step   256/288, Loss = 0.615\n"
     ]
    },
    {
     "name": "stderr",
     "output_type": "stream",
     "text": [
      "100%|██████████| 288/288 [00:18<00:00, 15.78it/s]\n",
      " 10%|▉         | 7/72 [00:00<00:01, 64.61it/s]"
     ]
    },
    {
     "name": "stdout",
     "output_type": "stream",
     "text": [
      "Step     0/72, Loss = 0.635\n"
     ]
    },
    {
     "name": "stderr",
     "output_type": "stream",
     "text": [
      "100%|██████████| 72/72 [00:01<00:00, 52.53it/s]\n"
     ]
    },
    {
     "name": "stdout",
     "output_type": "stream",
     "text": [
      "Step    64/72, Loss = 0.983\n",
      "\n",
      "Epoch 2\n"
     ]
    },
    {
     "name": "stderr",
     "output_type": "stream",
     "text": [
      "  0%|          | 0/288 [00:00<?, ?it/s]"
     ]
    },
    {
     "name": "stdout",
     "output_type": "stream",
     "text": [
      "Step     0/288, Loss = 0.637\n"
     ]
    },
    {
     "name": "stderr",
     "output_type": "stream",
     "text": [
      " 24%|██▎       | 68/288 [00:03<00:13, 16.66it/s]"
     ]
    },
    {
     "name": "stdout",
     "output_type": "stream",
     "text": [
      "Step    64/288, Loss = 0.569\n"
     ]
    },
    {
     "name": "stderr",
     "output_type": "stream",
     "text": [
      " 46%|████▌     | 132/288 [00:07<00:09, 16.28it/s]"
     ]
    },
    {
     "name": "stdout",
     "output_type": "stream",
     "text": [
      "Step   128/288, Loss = 0.680\n"
     ]
    },
    {
     "name": "stderr",
     "output_type": "stream",
     "text": [
      " 68%|██████▊   | 196/288 [00:11<00:05, 16.09it/s]"
     ]
    },
    {
     "name": "stdout",
     "output_type": "stream",
     "text": [
      "Step   192/288, Loss = 0.752\n"
     ]
    },
    {
     "name": "stderr",
     "output_type": "stream",
     "text": [
      " 90%|█████████ | 260/288 [00:15<00:01, 15.47it/s]"
     ]
    },
    {
     "name": "stdout",
     "output_type": "stream",
     "text": [
      "Step   256/288, Loss = 1.169\n"
     ]
    },
    {
     "name": "stderr",
     "output_type": "stream",
     "text": [
      "100%|██████████| 288/288 [00:17<00:00, 16.91it/s]\n",
      "  8%|▊         | 6/72 [00:00<00:01, 51.00it/s]"
     ]
    },
    {
     "name": "stdout",
     "output_type": "stream",
     "text": [
      "Step     0/72, Loss = 0.635\n"
     ]
    },
    {
     "name": "stderr",
     "output_type": "stream",
     "text": [
      "100%|██████████| 72/72 [00:01<00:00, 49.57it/s]\n"
     ]
    },
    {
     "name": "stdout",
     "output_type": "stream",
     "text": [
      "Step    64/72, Loss = 0.983\n",
      "\n",
      "Epoch 3\n"
     ]
    },
    {
     "name": "stderr",
     "output_type": "stream",
     "text": [
      "  1%|▏         | 4/288 [00:00<00:18, 15.06it/s]"
     ]
    },
    {
     "name": "stdout",
     "output_type": "stream",
     "text": [
      "Step     0/288, Loss = 0.931\n"
     ]
    },
    {
     "name": "stderr",
     "output_type": "stream",
     "text": [
      " 24%|██▎       | 68/288 [00:04<00:13, 15.91it/s]"
     ]
    },
    {
     "name": "stdout",
     "output_type": "stream",
     "text": [
      "Step    64/288, Loss = 1.114\n"
     ]
    },
    {
     "name": "stderr",
     "output_type": "stream",
     "text": [
      " 46%|████▌     | 133/288 [00:07<00:07, 19.96it/s]"
     ]
    },
    {
     "name": "stdout",
     "output_type": "stream",
     "text": [
      "Step   128/288, Loss = 0.403\n"
     ]
    },
    {
     "name": "stderr",
     "output_type": "stream",
     "text": [
      " 68%|██████▊   | 195/288 [00:11<00:05, 17.80it/s]"
     ]
    },
    {
     "name": "stdout",
     "output_type": "stream",
     "text": [
      "Step   192/288, Loss = 0.741\n"
     ]
    },
    {
     "name": "stderr",
     "output_type": "stream",
     "text": [
      " 90%|█████████ | 260/288 [00:15<00:01, 18.52it/s]"
     ]
    },
    {
     "name": "stdout",
     "output_type": "stream",
     "text": [
      "Step   256/288, Loss = 0.779\n"
     ]
    },
    {
     "name": "stderr",
     "output_type": "stream",
     "text": [
      "100%|██████████| 288/288 [00:16<00:00, 17.22it/s]\n",
      " 17%|█▋        | 12/72 [00:00<00:01, 55.13it/s]"
     ]
    },
    {
     "name": "stdout",
     "output_type": "stream",
     "text": [
      "Step     0/72, Loss = 0.635\n"
     ]
    },
    {
     "name": "stderr",
     "output_type": "stream",
     "text": [
      "100%|██████████| 72/72 [00:01<00:00, 55.05it/s]\n"
     ]
    },
    {
     "name": "stdout",
     "output_type": "stream",
     "text": [
      "Step    64/72, Loss = 0.983\n",
      "\n",
      "Epoch 4\n"
     ]
    },
    {
     "name": "stderr",
     "output_type": "stream",
     "text": [
      "  0%|          | 0/288 [00:00<?, ?it/s]"
     ]
    },
    {
     "name": "stdout",
     "output_type": "stream",
     "text": [
      "Step     0/288, Loss = 0.736\n"
     ]
    },
    {
     "name": "stderr",
     "output_type": "stream",
     "text": [
      " 24%|██▎       | 68/288 [00:04<00:13, 16.75it/s]"
     ]
    },
    {
     "name": "stdout",
     "output_type": "stream",
     "text": [
      "Step    64/288, Loss = 1.068\n"
     ]
    },
    {
     "name": "stderr",
     "output_type": "stream",
     "text": [
      " 46%|████▌     | 132/288 [00:08<00:10, 14.89it/s]"
     ]
    },
    {
     "name": "stdout",
     "output_type": "stream",
     "text": [
      "Step   128/288, Loss = 0.458\n"
     ]
    },
    {
     "name": "stderr",
     "output_type": "stream",
     "text": [
      " 67%|██████▋   | 194/288 [00:12<00:06, 14.44it/s]"
     ]
    },
    {
     "name": "stdout",
     "output_type": "stream",
     "text": [
      "Step   192/288, Loss = 0.530\n"
     ]
    },
    {
     "name": "stderr",
     "output_type": "stream",
     "text": [
      " 90%|████████▉ | 258/288 [00:17<00:02, 13.52it/s]"
     ]
    },
    {
     "name": "stdout",
     "output_type": "stream",
     "text": [
      "Step   256/288, Loss = 0.418\n"
     ]
    },
    {
     "name": "stderr",
     "output_type": "stream",
     "text": [
      "100%|██████████| 288/288 [00:19<00:00, 14.90it/s]\n",
      "  7%|▋         | 5/72 [00:00<00:01, 43.22it/s]"
     ]
    },
    {
     "name": "stdout",
     "output_type": "stream",
     "text": [
      "Step     0/72, Loss = 0.635\n"
     ]
    },
    {
     "name": "stderr",
     "output_type": "stream",
     "text": [
      "100%|██████████| 72/72 [00:01<00:00, 42.43it/s]\n"
     ]
    },
    {
     "name": "stdout",
     "output_type": "stream",
     "text": [
      "Step    64/72, Loss = 0.983\n",
      "\n",
      "Epoch 5\n"
     ]
    },
    {
     "name": "stderr",
     "output_type": "stream",
     "text": [
      "  1%|▏         | 4/288 [00:00<00:18, 15.57it/s]"
     ]
    },
    {
     "name": "stdout",
     "output_type": "stream",
     "text": [
      "Step     0/288, Loss = 0.247\n"
     ]
    },
    {
     "name": "stderr",
     "output_type": "stream",
     "text": [
      " 23%|██▎       | 66/288 [00:04<00:16, 13.54it/s]"
     ]
    },
    {
     "name": "stdout",
     "output_type": "stream",
     "text": [
      "Step    64/288, Loss = 0.482\n"
     ]
    },
    {
     "name": "stderr",
     "output_type": "stream",
     "text": [
      " 46%|████▌     | 132/288 [00:09<00:10, 14.69it/s]"
     ]
    },
    {
     "name": "stdout",
     "output_type": "stream",
     "text": [
      "Step   128/288, Loss = 0.468\n"
     ]
    },
    {
     "name": "stderr",
     "output_type": "stream",
     "text": [
      " 67%|██████▋   | 194/288 [00:13<00:06, 14.70it/s]"
     ]
    },
    {
     "name": "stdout",
     "output_type": "stream",
     "text": [
      "Step   192/288, Loss = 0.598\n"
     ]
    },
    {
     "name": "stderr",
     "output_type": "stream",
     "text": [
      " 90%|█████████ | 260/288 [00:17<00:01, 15.42it/s]"
     ]
    },
    {
     "name": "stdout",
     "output_type": "stream",
     "text": [
      "Step   256/288, Loss = 0.191\n"
     ]
    },
    {
     "name": "stderr",
     "output_type": "stream",
     "text": [
      "100%|██████████| 288/288 [00:19<00:00, 14.70it/s]\n",
      "  7%|▋         | 5/72 [00:00<00:01, 46.00it/s]"
     ]
    },
    {
     "name": "stdout",
     "output_type": "stream",
     "text": [
      "Step     0/72, Loss = 0.635\n"
     ]
    },
    {
     "name": "stderr",
     "output_type": "stream",
     "text": [
      "100%|██████████| 72/72 [00:01<00:00, 50.62it/s]"
     ]
    },
    {
     "name": "stdout",
     "output_type": "stream",
     "text": [
      "Step    64/72, Loss = 0.983\n",
      "CPU times: user 1min 37s, sys: 1.07 s, total: 1min 38s\n",
      "Wall time: 1min 38s\n"
     ]
    },
    {
     "name": "stderr",
     "output_type": "stream",
     "text": [
      "\n"
     ]
    }
   ],
   "source": [
    "%%time\n",
    "\n",
    "n_epochs = 5\n",
    "\n",
    "train_losses, train_mini_batch_losses = [], []\n",
    "val_losses, val_mini_batch_losses = [], []\n",
    "\n",
    "for epoch in range(1, n_epochs + 1):\n",
    "    print(f\"\\nEpoch {epoch}\")\n",
    "    train_loss, _train_mini_batch_losses = mini_batch(\n",
    "        train_dataloader, train_step_fn, is_training=True\n",
    "    )\n",
    "    train_mini_batch_losses.extend(_train_mini_batch_losses)\n",
    "    train_losses.append(train_loss)\n",
    "\n",
    "    with torch.no_grad():\n",
    "        val_loss, _val_mini_batch_losses = mini_batch(\n",
    "            val_dataloader, val_step_fn, is_training=False\n",
    "        )\n",
    "        val_mini_batch_losses.extend(_val_mini_batch_losses)\n",
    "        val_losses.append(val_loss)"
   ]
  },
  {
   "cell_type": "code",
   "execution_count": 51,
   "metadata": {},
   "outputs": [],
   "source": [
    "window_size = 32\n",
    "\n",
    "train_mb_running_loss = []\n",
    "for i in range(len(train_mini_batch_losses) - window_size):\n",
    "    train_mb_running_loss.append(np.mean(train_mini_batch_losses[i : i + window_size]))\n",
    "\n",
    "val_mb_running_loss = []\n",
    "for i in range(len(val_mini_batch_losses) - window_size):\n",
    "    val_mb_running_loss.append(np.mean(val_mini_batch_losses[i : i + window_size]))"
   ]
  },
  {
   "cell_type": "code",
   "execution_count": 52,
   "metadata": {},
   "outputs": [
    {
     "data": {
      "image/png": "[encoded data removed]",
      "text/plain": [
       "<Figure size 1400x800 with 1 Axes>"
      ]
     },
     "metadata": {},
     "output_type": "display_data"
    }
   ],
   "source": [
    "fix, ax = plt.subplots(figsize=(14, 8))\n",
    "ax.plot(range(len(train_mb_running_loss)), train_mb_running_loss);"
   ]
  },
  {
   "cell_type": "code",
   "execution_count": 53,
   "metadata": {},
   "outputs": [],
   "source": [
    "model.bert_model.save_pretrained(\"cross_ecoder_5ep\")"
   ]
  },
  {
   "cell_type": "code",
   "execution_count": 54,
   "metadata": {},
   "outputs": [],
   "source": [
    "def get_ranked_docs(\n",
    "    tokenizer: AutoTokenizer,\n",
    "    finetuned_ce: CrossEncoderBert,\n",
    "    base_bert: AutoModel,\n",
    "    query: str,\n",
    "    corpus: list[str],\n",
    ") -> None:\n",
    "    queries = [query] * len(corpus)\n",
    "    tokenized_texts = tokenizer(\n",
    "        queries,\n",
    "        corpus,\n",
    "        max_length=MAX_LENGTH,\n",
    "        padding=True,\n",
    "        truncation=True,\n",
    "        return_tensors=\"pt\",\n",
    "    ).to(DEVICE)\n",
    "\n",
    "    # Finetuned CrossEncoder model scoring\n",
    "    with torch.no_grad():\n",
    "        ce_scores = finetuned_ce(\n",
    "            tokenized_texts[\"input_ids\"], tokenized_texts[\"attention_mask\"]\n",
    "        ).squeeze(-1)\n",
    "        ce_scores = torch.sigmoid(ce_scores)  # Apply sigmoid if needed\n",
    "\n",
    "    # Base Bert model scoring\n",
    "    with torch.no_grad():\n",
    "        base_bert_outputs = base_bert(**tokenized_texts)\n",
    "        bert_scores = torch.sigmoid(\n",
    "            finetuned_ce.linear(base_bert_outputs.last_hidden_state[:, 0, :])\n",
    "        )  # Use CLS token output\n",
    "\n",
    "    # Process scores for finetuned model\n",
    "    print(f\"Query - {query} [Finetuned Cross-Encoder]\\n---\")\n",
    "    scores = ce_scores.cpu().numpy()\n",
    "    scores_ix = np.argsort(scores)[::-1]\n",
    "    for ix in scores_ix:  # Limit to corpus size\n",
    "        print(f\"{scores[ix]: >.2f}\\t{corpus[ix]}\")\n",
    "\n",
    "    # Process scores for base Bert model\n",
    "    print(f\"\\nQuery - {query} [Bert Base]\\n---\")\n",
    "    scores = bert_scores.cpu().numpy().squeeze(-1)\n",
    "    scores_ix = np.argsort(scores)[::-1]\n",
    "    for ix in scores_ix:  # Limit to corpus size\n",
    "        print(f\"{scores[ix]: >.2f}\\t{corpus[ix]}\")"
   ]
  },
  {
   "cell_type": "code",
   "execution_count": 55,
   "metadata": {},
   "outputs": [],
   "source": [
    "corpus = [\n",
    "    \"A man is eating food.\",\n",
    "    \"A man is eating a piece of bread.\",\n",
    "    \"The girl is carrying a baby.\",\n",
    "    \"A man is riding a horse.\",\n",
    "    \"A woman is playing violin.\",\n",
    "    \"Two men pushed carts through the woods.\",\n",
    "    \"A man is riding a white horse on an enclosed ground.\",\n",
    "    \"A monkey is playing drums.\",\n",
    "    \"A cheetah is running behind its prey.\",\n",
    "]\n",
    "\n",
    "query = \"A man is eating pasta.\""
   ]
  },
  {
   "cell_type": "code",
   "execution_count": 56,
   "metadata": {},
   "outputs": [
    {
     "name": "stdout",
     "output_type": "stream",
     "text": [
      "Query - A man is eating pasta. [Finetuned Cross-Encoder]\n",
      "---\n",
      "0.93\tA man is eating food.\n",
      "0.89\tA man is eating a piece of bread.\n",
      "0.60\tA man is riding a horse.\n",
      "0.57\tA man is riding a white horse on an enclosed ground.\n",
      "0.57\tA cheetah is running behind its prey.\n",
      "0.56\tTwo men pushed carts through the woods.\n",
      "0.52\tThe girl is carrying a baby.\n",
      "0.50\tA monkey is playing drums.\n",
      "0.49\tA woman is playing violin.\n",
      "\n",
      "Query - A man is eating pasta. [Bert Base]\n",
      "---\n",
      "0.51\tA man is eating food.\n",
      "0.51\tA man is eating a piece of bread.\n",
      "0.50\tTwo men pushed carts through the woods.\n",
      "0.50\tA cheetah is running behind its prey.\n",
      "0.50\tA man is riding a horse.\n",
      "0.49\tThe girl is carrying a baby.\n",
      "0.49\tA woman is playing violin.\n",
      "0.49\tA monkey is playing drums.\n",
      "0.49\tA man is riding a white horse on an enclosed ground.\n"
     ]
    }
   ],
   "source": [
    "get_ranked_docs(tokenizer, model, bert_model.to(DEVICE), query, corpus)"
   ]
  },
  {
   "cell_type": "code",
   "execution_count": 57,
   "metadata": {},
   "outputs": [],
   "source": [
    "def flush_memory():\n",
    "    import gc\n",
    "\n",
    "    gc.collect()\n",
    "    torch.cuda.empty_cache()\n",
    "    torch.cuda.ipc_collect()\n",
    "    with torch.no_grad():\n",
    "        for _ in range(3):\n",
    "            torch.cuda.empty_cache()\n",
    "            torch.cuda.ipc_collect()"
   ]
  },
  {
   "cell_type": "code",
   "execution_count": 58,
   "metadata": {},
   "outputs": [],
   "source": [
    "def get_best_rand_reply(\n",
    "    tokenizer: AutoTokenizer,\n",
    "    finetuned_ce: CrossEncoderBert,\n",
    "    base_bert: AutoModel,\n",
    "    query: str,\n",
    "    context: str,\n",
    "    corpus: list[str],\n",
    "    size_patch=150,\n",
    "    qty_rand_choose=5,\n",
    "    max_out_context=200,\n",
    ") -> None:\n",
    "    dic_answ = dict()\n",
    "    dic_answ[\"score\"] = []\n",
    "    dic_answ[\"answer\"] = []\n",
    "\n",
    "    conext_memory = query + \"[SEP]\" + context\n",
    "\n",
    "    if len(corpus) < qty_rand_choose * max_out_context:\n",
    "        qty_rand_choose = int(len(corpus))\n",
    "\n",
    "    # так как база большая\n",
    "    for i in range(qty_rand_choose):\n",
    "        rand_patch_corpus = list(np.random.choice(corpus, size_patch))\n",
    "        # print(len(rand_patch_corpus))\n",
    "\n",
    "        queries = [conext_memory] * len(rand_patch_corpus)\n",
    "        # print(len(queries))\n",
    "        tokenized_texts = tokenizer(\n",
    "            queries,\n",
    "            rand_patch_corpus,\n",
    "            max_length=MAX_LENGTH,\n",
    "            padding=True,\n",
    "            truncation=True,\n",
    "            return_tensors=\"pt\",\n",
    "        ).to(DEVICE)\n",
    "\n",
    "        # Finetuned CrossEncoder model scoring\n",
    "        with torch.no_grad():\n",
    "            ce_scores = finetuned_ce(\n",
    "                tokenized_texts[\"input_ids\"], tokenized_texts[\"attention_mask\"]\n",
    "            ).squeeze(-1)\n",
    "            ce_scores = torch.sigmoid(ce_scores)  # Apply sigmoid if needed\n",
    "\n",
    "        # Process scores for finetuned model\n",
    "        scores = ce_scores.cpu().numpy()\n",
    "        scores_ix = np.argsort(scores)[::-1][0]\n",
    "        dic_answ[\"score\"].append(scores[scores_ix])\n",
    "        dic_answ[\"answer\"].append(rand_patch_corpus[scores_ix])\n",
    "\n",
    "    id = np.argsort(dic_answ[\"score\"])[::-1][0]  # np.array(dic_answ[\"score\"]).argmax()\n",
    "    answer = dic_answ[\"answer\"][id]\n",
    "    conext_memory = answer + \"[SEP]\" + conext_memory\n",
    "    flush_memory()\n",
    "    return answer, conext_memory[:max_out_context], dic_answ[\"score\"][id]"
   ]
  },
  {
   "cell_type": "code",
   "execution_count": 59,
   "metadata": {},
   "outputs": [
    {
     "name": "stdout",
     "output_type": "stream",
     "text": [
      "Реплика: What is the live?\n",
      "Лучший ответ: Oysters, clams, and cockels! Oysters, clams, and cockels! Oysters, clams, and cockels! Oysters, clams, and cock--\n",
      "score 0.984527587890625\n"
     ]
    }
   ],
   "source": [
    "question = \"What is the live?\"  #\n",
    "print(f\"Реплика: {question}\")\n",
    "\n",
    "best_answer, conext_memory, best_score = get_best_rand_reply(\n",
    "    tokenizer,\n",
    "    model,\n",
    "    bert_model.to(DEVICE),\n",
    "    query=question,\n",
    "    context=\"\",\n",
    "    corpus=all_replies,\n",
    ")\n",
    "\n",
    "print(f\"Лучший ответ: {best_answer}\\nscore {best_score}\")"
   ]
  },
  {
   "cell_type": "code",
   "execution_count": 60,
   "metadata": {},
   "outputs": [
    {
     "name": "stdout",
     "output_type": "stream",
     "text": [
      "Реплика: The raven's been coming to me ever since I fell from that tower. He wants me to find him. I don't have my legs anymore. This is what I have now.\n",
      "Ответ: Last time we saw each other was at Winterfell, yes? You were making jokes about my height, I seem to recall. Everyone who makes a joke about a dwarf's height thinks he's the only person ever to make a joke about a dwarf's height. “The height of nobility,” “a man of your stature,” “someone to look up to.” You're all making the same five or six jokes.\n",
      " score 0.941\n",
      "\n",
      "Реплика: Me, too, dear. Death is so boring, especially now with so much excitement in the world. . My Lady, I'm sorry for your loss.\n",
      "Ответ: Joffrey. Cersei. llyn Payne. The Hound. Joffrey. Cersei. llyn Payne. The Hound. Joffrey. Cersei. llyn Payne. The Hound.\n",
      " score 0.944\n",
      "\n",
      "Реплика: Would you like to walk without shoes?\n",
      "Ответ: Oysters, clams, and cockels! Oysters, clams, and cockels! Oysters, clams, and cockels! Oysters, clams, and cock--\n",
      " score 0.979\n",
      "\n",
      "Реплика: He will die tonight, Khaleesi.\n",
      "Ответ: I hate them! I hate all of them. The Hound, the Queen and the King and Joffrey and Sansa.\n",
      " score 0.959\n",
      "\n",
      "Реплика: You tended to their wounds. You brought them supper. Now they're dead.\n",
      "Ответ: I hate them! I hate all of them. The Hound, the Queen and the King and Joffrey and Sansa.\n",
      " score 0.975\n",
      "\n",
      "Реплика: We're not butchers. We hang them.\n",
      "Ответ: I hate them! I hate all of them. The Hound, the Queen and the King and Joffrey and Sansa.\n",
      " score 0.959\n",
      "\n",
      "Реплика: Eventually, if it comes to that. Can your little birds find their way into Meereen?\n",
      "Ответ: I hate them! I hate all of them. The Hound, the Queen and the King and Joffrey and Sansa.\n",
      " score 0.965\n",
      "\n",
      "Реплика: Do you have a name?\n",
      "Ответ: Whose sword is that? It belongs to Arya Stark. Arya Stark's sword, Arya Stark's clothes, Arya Stark's stolen silver. A man wonders how is it that no one came to be surrounded by Arya Stark's things?\n",
      " score 0.929\n",
      "\n",
      "Реплика: To me.\n",
      "Ответ: Kill me. Kill me! Kill me! Kill me!\n",
      " score 0.972\n",
      "\n",
      "Реплика: Come on! Come on!\n",
      "Ответ: Hmm. Ser Eldrick Sarsfield and Lord Desmond Crakehall. Ser Eldrick Sarsfield and Lord Desmond Crakehall.\n",
      " score 0.975\n",
      "\n"
     ]
    }
   ],
   "source": [
    "rand_questions = talks_df.sample(10)[\"query\"].values\n",
    "\n",
    "for i, question in enumerate(rand_questions):\n",
    "    print(f\"Реплика: {question}\")\n",
    "    if not i:\n",
    "        conext_memory = \"\"\n",
    "    best_answer, conext_memory, best_score = get_best_rand_reply(\n",
    "        tokenizer,\n",
    "        model,\n",
    "        bert_model.to(DEVICE),\n",
    "        query=question,\n",
    "        context=conext_memory,\n",
    "        corpus=all_replies,\n",
    "    )\n",
    "    best_score = round(float(best_score), 3)\n",
    "    print(f\"Ответ: {best_answer}\\n score {best_score}\\n\")"
   ]
  },
  {
   "cell_type": "code",
   "execution_count": null,
   "metadata": {},
   "outputs": [],
   "source": []
  }
 ],
 "metadata": {
  "kernelspec": {
   "display_name": "Python 3",
   "language": "python",
   "name": "python3"
  },
  "language_info": {
   "codemirror_mode": {
    "name": "ipython",
    "version": 3
   },
   "file_extension": ".py",
   "mimetype": "text/x-python",
   "name": "python",
   "nbconvert_exporter": "python",
   "pygments_lexer": "ipython3",
   "version": "3.10.12"
  }
 },
 "nbformat": 4,
 "nbformat_minor": 2
}
